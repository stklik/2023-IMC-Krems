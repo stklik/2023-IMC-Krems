{
 "cells": [
  {
   "cell_type": "raw",
   "id": "db109d55",
   "metadata": {
    "slideshow": {
     "slide_type": "skip"
    }
   },
   "source": [
    "!pip install networkx matplotlib"
   ]
  },
  {
   "cell_type": "markdown",
   "id": "a0f6cdf7",
   "metadata": {
    "slideshow": {
     "slide_type": "slide"
    }
   },
   "source": [
    "# Networkx (https://networkx.org/)\n",
    "\n",
    "- Graphs, DiGraphs, MultiGraphs, Trees\n",
    "- analysis, search, exploration\n",
    "- LOTS of algorithms, ready to use"
   ]
  },
  {
   "cell_type": "code",
   "execution_count": null,
   "id": "5737f296",
   "metadata": {
    "slideshow": {
     "slide_type": "fragment"
    }
   },
   "outputs": [],
   "source": [
    "import networkx as nx\n",
    "nx.__version__"
   ]
  },
  {
   "cell_type": "markdown",
   "id": "ce43efba",
   "metadata": {
    "slideshow": {
     "slide_type": "subslide"
    }
   },
   "source": [
    "# Creating a graph"
   ]
  },
  {
   "cell_type": "code",
   "execution_count": null,
   "id": "3f558bc8",
   "metadata": {
    "cell_style": "split",
    "slideshow": {
     "slide_type": "-"
    }
   },
   "outputs": [],
   "source": [
    "G = nx.DiGraph()\n",
    "\n",
    "# Add nodes directly\n",
    "G.add_node(\"Stefan\")\n",
    "G.add_node(\"Alessio\")\n",
    "G.add_edge(\"Stefan\", \"Alessio\", weight=0)\n",
    "\n",
    "# New nodes are added automatically\n",
    "G.add_edge(\"a\", \"b\", weight=14)\n",
    "G.add_edge(\"a\", \"e\", weight=3)\n",
    "G.add_edge(\"b\", \"c\", weight=4)\n",
    "G.add_edge(\"b\", \"d\", weight=5)\n",
    "G.add_edge(\"d\", \"e\", weight=7)\n",
    "G.add_edge(\"d\", \"f\", weight=7)\n",
    "G.add_edge(\"e\", \"e\", weight=9)"
   ]
  },
  {
   "cell_type": "code",
   "execution_count": null,
   "id": "b729f483",
   "metadata": {
    "cell_style": "split",
    "slideshow": {
     "slide_type": "fragment"
    }
   },
   "outputs": [],
   "source": [
    "import matplotlib.pyplot as plt\n",
    "\n",
    "pos = nx.spring_layout(G)  # automatically positions nodes\n",
    "nx.draw_networkx(G, pos=pos, node_color=\"red\")  # \n",
    "labels = {e: G.edges[e]['weight'] for e in G.edges}\n",
    "nx.draw_networkx_edge_labels(G, pos, edge_labels=labels)\n",
    "plt.show()"
   ]
  },
  {
   "cell_type": "markdown",
   "id": "10e32076",
   "metadata": {
    "slideshow": {
     "slide_type": "subslide"
    }
   },
   "source": [
    "# Explore the Graph"
   ]
  },
  {
   "cell_type": "code",
   "execution_count": null,
   "id": "b5110eb8",
   "metadata": {
    "cell_style": "split",
    "slideshow": {
     "slide_type": "-"
    }
   },
   "outputs": [],
   "source": [
    "import matplotlib.pyplot as plt\n",
    "\n",
    "pos = nx.spring_layout(G)  # automatically positions nodes\n",
    "nx.draw_networkx(G, pos=pos, node_color=\"red\")  # \n",
    "labels = {e: G.edges[e]['weight'] for e in G.edges}\n",
    "nx.draw_networkx_edge_labels(G, pos, edge_labels=labels)\n",
    "plt.show()"
   ]
  },
  {
   "cell_type": "code",
   "execution_count": null,
   "id": "29f25e09",
   "metadata": {
    "cell_style": "split",
    "slideshow": {
     "slide_type": "fragment"
    }
   },
   "outputs": [],
   "source": [
    "print(G.degree[\"Alessio\"])\n",
    "print(G.in_degree[\"Alessio\"])\n",
    "print(G.out_degree[\"Alessio\"])"
   ]
  },
  {
   "cell_type": "code",
   "execution_count": null,
   "id": "52dbfcc5",
   "metadata": {
    "cell_style": "split",
    "slideshow": {
     "slide_type": "fragment"
    }
   },
   "outputs": [],
   "source": [
    "print(G.degree[\"b\"])\n",
    "print(G.in_degree[\"b\"])\n",
    "print(G.out_degree[\"b\"])"
   ]
  },
  {
   "cell_type": "markdown",
   "id": "4884ec31",
   "metadata": {
    "slideshow": {
     "slide_type": "subslide"
    }
   },
   "source": [
    "# Exploring the Graph"
   ]
  },
  {
   "cell_type": "code",
   "execution_count": null,
   "id": "064ad481",
   "metadata": {
    "cell_style": "split"
   },
   "outputs": [],
   "source": [
    "import matplotlib.pyplot as plt\n",
    "\n",
    "pos = nx.spring_layout(G)  # automatically positions nodes\n",
    "nx.draw_networkx(G, pos=pos, node_color=\"red\")  # \n",
    "labels = {e: G.edges[e]['weight'] for e in G.edges}\n",
    "nx.draw_networkx_edge_labels(G, pos, edge_labels=labels)\n",
    "plt.show()"
   ]
  },
  {
   "cell_type": "code",
   "execution_count": null,
   "id": "1680af00",
   "metadata": {
    "cell_style": "split",
    "slideshow": {
     "slide_type": "fragment"
    }
   },
   "outputs": [],
   "source": [
    "print(\"e's ancestors\", nx.ancestors(G, \"e\"))\n",
    "print(\"a's descendants\", nx.descendants(G, \"a\"))"
   ]
  },
  {
   "cell_type": "code",
   "execution_count": null,
   "id": "c221472d",
   "metadata": {
    "cell_style": "split",
    "slideshow": {
     "slide_type": "fragment"
    }
   },
   "outputs": [],
   "source": [
    "list(nx.neighbors(G, \"b\"))"
   ]
  },
  {
   "cell_type": "code",
   "execution_count": null,
   "id": "09d92a14",
   "metadata": {
    "cell_style": "split",
    "slideshow": {
     "slide_type": "fragment"
    }
   },
   "outputs": [],
   "source": [
    "list(nx.neighbors(G.to_undirected(), \"b\"))"
   ]
  },
  {
   "cell_type": "markdown",
   "id": "b1fd19cd",
   "metadata": {
    "slideshow": {
     "slide_type": "subslide"
    }
   },
   "source": [
    "# Adjacency Matrix"
   ]
  },
  {
   "cell_type": "code",
   "execution_count": null,
   "id": "ab01fc23",
   "metadata": {
    "cell_style": "split",
    "slideshow": {
     "slide_type": "-"
    }
   },
   "outputs": [],
   "source": [
    "print(nx.adjacency_matrix(G))"
   ]
  },
  {
   "cell_type": "code",
   "execution_count": null,
   "id": "ab0da4fd",
   "metadata": {
    "cell_style": "split",
    "slideshow": {
     "slide_type": "-"
    }
   },
   "outputs": [],
   "source": [
    "print(nx.adjacency_matrix(G).todense())"
   ]
  },
  {
   "cell_type": "markdown",
   "id": "7cb241ec",
   "metadata": {
    "slideshow": {
     "slide_type": "subslide"
    }
   },
   "source": [
    "# And many, many, many, many, many more functions\n",
    "\n",
    "https://networkx.org/documentation/stable/reference/index.html"
   ]
  },
  {
   "cell_type": "markdown",
   "id": "832a902a",
   "metadata": {
    "slideshow": {
     "slide_type": "slide"
    }
   },
   "source": [
    "# An example with Pandas\n",
    "\n",
    "- WG22 Dataset from https://people.sc.fsu.edu/~jburkardt/datasets/cities/cities.html\n",
    "- 22 German cities + distances between them"
   ]
  },
  {
   "cell_type": "code",
   "execution_count": null,
   "id": "eb81f5e6",
   "metadata": {},
   "outputs": [],
   "source": [
    "import pandas as pd\n",
    "import itertools"
   ]
  },
  {
   "cell_type": "markdown",
   "id": "05d470ef",
   "metadata": {
    "slideshow": {
     "slide_type": "subslide"
    }
   },
   "source": [
    "# Import Node Data"
   ]
  },
  {
   "cell_type": "code",
   "execution_count": null,
   "id": "8f0375b6",
   "metadata": {
    "slideshow": {
     "slide_type": "-"
    }
   },
   "outputs": [],
   "source": [
    "city_df = pd.read_csv(\"data/wg22_name_xy.txt\", header=None, names=[\"Stadt\", \"x\", \"y\"])\n",
    "names = city_df.Stadt.tolist()\n",
    "city_df"
   ]
  },
  {
   "cell_type": "markdown",
   "id": "138864e8",
   "metadata": {
    "slideshow": {
     "slide_type": "subslide"
    }
   },
   "source": [
    "# Import Distances"
   ]
  },
  {
   "cell_type": "code",
   "execution_count": null,
   "id": "cbcd2bf0",
   "metadata": {},
   "outputs": [],
   "source": [
    "with open(\"data/wg22_dist.txt\", \"r\") as f:\n",
    "    distance_raw = f.read()\n",
    "\n",
    "# each block ends with a short line of 12 characters.\n",
    "rows = [line.split() for line in distance_raw.splitlines()]\n",
    "\n",
    "distance_matrix = pd.DataFrame(rows, columns=names, index=names, dtype=float)\n",
    "distance_matrix"
   ]
  },
  {
   "cell_type": "markdown",
   "id": "a6dd9a12",
   "metadata": {
    "slideshow": {
     "slide_type": "subslide"
    }
   },
   "source": [
    "# Convert to Dense Representation (Edge-list)"
   ]
  },
  {
   "cell_type": "code",
   "execution_count": null,
   "id": "20b3989c",
   "metadata": {
    "slideshow": {
     "slide_type": "-"
    }
   },
   "outputs": [],
   "source": [
    "edges = [(from_, to_, distance_matrix.loc[from_, to_]) \n",
    "         for from_, to_ in itertools.product(names, repeat=2)\n",
    "         if from_ != to_]\n",
    "\n",
    "df_edges = pd.DataFrame(edges, columns=[\"From\", \"To\", \"Distance\"])\n",
    "df_edges"
   ]
  },
  {
   "cell_type": "markdown",
   "id": "d87316b3",
   "metadata": {
    "slideshow": {
     "slide_type": "subslide"
    }
   },
   "source": [
    "# Create a subgraph from edgelist"
   ]
  },
  {
   "cell_type": "code",
   "execution_count": null,
   "id": "854100b3",
   "metadata": {
    "slideshow": {
     "slide_type": "-"
    }
   },
   "outputs": [],
   "source": [
    "sub_df = df_edges.sample(frac=0.1, random_state=12345)  # <-- a 10% subset of edges, to make i t more interesting\n",
    "\n",
    "G = nx.from_pandas_edgelist(df=sub_df, source='From', target='To', edge_attr='Distance', create_using=nx.Graph)"
   ]
  },
  {
   "cell_type": "markdown",
   "id": "53d62f73",
   "metadata": {
    "slideshow": {
     "slide_type": "subslide"
    }
   },
   "source": [
    "# Plot it!"
   ]
  },
  {
   "cell_type": "code",
   "execution_count": null,
   "id": "e9d6afc3",
   "metadata": {
    "cell_style": "center",
    "slideshow": {
     "slide_type": "-"
    }
   },
   "outputs": [],
   "source": [
    "plt.figure(0,figsize=(12,12)) \n",
    "\n",
    "# Use geographic node positions\n",
    "for rowidx, row in city_df.iterrows():\n",
    "    G.nodes[row.Stadt][\"pos\"] = (row[\"x\"], row[\"y\"])\n",
    "pos = nx.get_node_attributes(G, 'pos')\n",
    "\n",
    "\n",
    "nx.draw(G, pos, with_labels=True, node_color=\"red\")\n",
    "labels = {e: G.edges[e]['Distance'] for e in G.edges}\n",
    "nx.draw_networkx_edge_labels(G, pos, edge_labels=labels)\n",
    "plt.show()"
   ]
  },
  {
   "cell_type": "markdown",
   "id": "cf539180",
   "metadata": {
    "slideshow": {
     "slide_type": "subslide"
    }
   },
   "source": [
    "# Calculate Minimum Spanning Tree ? "
   ]
  },
  {
   "cell_type": "code",
   "execution_count": null,
   "id": "b907d7f5",
   "metadata": {
    "slideshow": {
     "slide_type": "-"
    }
   },
   "outputs": [],
   "source": [
    "MST = nx.minimum_spanning_tree(G)"
   ]
  },
  {
   "cell_type": "code",
   "execution_count": null,
   "id": "3073969a",
   "metadata": {
    "slideshow": {
     "slide_type": "fragment"
    }
   },
   "outputs": [],
   "source": [
    "plt.figure(0,figsize=(15,15)) \n",
    "nx.draw(MST, pos, with_labels=True, node_color=\"red\")\n",
    "labels = {e: MST.edges[e]['Distance'] for e in MST.edges}\n",
    "nx.draw_networkx_edge_labels(MST, pos, edge_labels=labels)\n",
    "plt.show()"
   ]
  },
  {
   "cell_type": "markdown",
   "id": "93e36412",
   "metadata": {
    "slideshow": {
     "slide_type": "subslide"
    }
   },
   "source": [
    "# Traveling Salesman Problem"
   ]
  },
  {
   "cell_type": "code",
   "execution_count": null,
   "id": "91b1d1c2",
   "metadata": {
    "slideshow": {
     "slide_type": "-"
    }
   },
   "outputs": [],
   "source": [
    "node_list = nx.approximation.traveling_salesman_problem(G.to_undirected(), weight=\"Distance\")\n",
    "print(node_list)"
   ]
  },
  {
   "cell_type": "code",
   "execution_count": null,
   "id": "dcb67dbc",
   "metadata": {
    "slideshow": {
     "slide_type": "subslide"
    }
   },
   "outputs": [],
   "source": [
    "tsp_G = G.to_directed().edge_subgraph(zip(node_list, node_list[1:]))  # Create a subgraph\n",
    "\n",
    "plt.figure(0,figsize=(15,15)) \n",
    "nx.draw(tsp_G, pos, with_labels=True, node_color=\"red\")\n",
    "labels = {e: tsp_G.edges[e]['Distance'] for e in tsp_G.edges}\n",
    "nx.draw_networkx_edge_labels(MST, pos, edge_labels=labels)\n",
    "plt.show()"
   ]
  },
  {
   "cell_type": "markdown",
   "id": "42b8d883",
   "metadata": {
    "slideshow": {
     "slide_type": "subslide"
    }
   },
   "source": [
    "# Traverse Graph in DFS fashion"
   ]
  },
  {
   "cell_type": "code",
   "execution_count": null,
   "id": "018153b3",
   "metadata": {
    "cell_style": "split",
    "slideshow": {
     "slide_type": "-"
    }
   },
   "outputs": [],
   "source": [
    "# list() because we get an iterator\n",
    "list(nx.dfs_edges(G, \"Wuerzburg\"))"
   ]
  },
  {
   "cell_type": "code",
   "execution_count": null,
   "id": "9af219d0",
   "metadata": {
    "cell_style": "split",
    "slideshow": {
     "slide_type": "-"
    }
   },
   "outputs": [],
   "source": [
    "# list() because we get an iterator\n",
    "list(nx.bfs_edges(G, \"Wuerzburg\"))"
   ]
  },
  {
   "cell_type": "markdown",
   "id": "5a567319",
   "metadata": {
    "slideshow": {
     "slide_type": "subslide"
    }
   },
   "source": [
    "# Calculate Shortest Paths \n",
    "(Muenchen => Saarbruecken)"
   ]
  },
  {
   "cell_type": "code",
   "execution_count": null,
   "id": "5db10768",
   "metadata": {
    "cell_style": "split"
   },
   "outputs": [],
   "source": [
    "plt.figure(0,figsize=(12,12)) \n",
    "nx.draw(G, pos, with_labels=True, node_color=\"red\")\n",
    "labels = {e: G.edges[e]['Distance'] for e in G.edges}\n",
    "nx.draw_networkx_edge_labels(G, pos, edge_labels=labels)\n",
    "plt.show()"
   ]
  },
  {
   "cell_type": "code",
   "execution_count": null,
   "id": "106229a0",
   "metadata": {
    "cell_style": "split",
    "slideshow": {
     "slide_type": "fragment"
    }
   },
   "outputs": [],
   "source": [
    "path = nx.shortest_path(G, source=\"Muenchen\",\n",
    "                        target=\"Saarbruecken\")\n",
    "print(path, nx.path_weight(G, path, weight=\"Distance\"))"
   ]
  },
  {
   "cell_type": "code",
   "execution_count": null,
   "id": "2a151bd1",
   "metadata": {
    "cell_style": "split",
    "slideshow": {
     "slide_type": "fragment"
    }
   },
   "outputs": [],
   "source": [
    "path = nx.shortest_path(G, source=\"Muenchen\", \n",
    "                        target=\"Saarbruecken\",\n",
    "                        weight=\"Distance\")\n",
    "print(path, nx.path_weight(G, path, weight=\"Distance\"))"
   ]
  },
  {
   "cell_type": "code",
   "execution_count": null,
   "id": "02d0a7a1",
   "metadata": {
    "cell_style": "split",
    "slideshow": {
     "slide_type": "fragment"
    }
   },
   "outputs": [],
   "source": [
    "path = nx.shortest_path(MST, source=\"Muenchen\", \n",
    "                        target=\"Saarbruecken\", \n",
    "                        weight=\"Distance\")\n",
    "print(path, nx.path_weight(G, path, weight=\"Distance\"))"
   ]
  },
  {
   "cell_type": "markdown",
   "id": "7155f5f0",
   "metadata": {
    "slideshow": {
     "slide_type": "slide"
    }
   },
   "source": [
    "# Questions ?"
   ]
  }
 ],
 "metadata": {
  "celltoolbar": "Slideshow",
  "kernelspec": {
   "display_name": "Python 3 (ipykernel)",
   "language": "python",
   "name": "python3"
  },
  "language_info": {
   "codemirror_mode": {
    "name": "ipython",
    "version": 3
   },
   "file_extension": ".py",
   "mimetype": "text/x-python",
   "name": "python",
   "nbconvert_exporter": "python",
   "pygments_lexer": "ipython3",
   "version": "3.8.15"
  }
 },
 "nbformat": 4,
 "nbformat_minor": 5
}
